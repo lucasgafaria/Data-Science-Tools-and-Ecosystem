{
 "cells": [
  {
   "cell_type": "markdown",
   "id": "ee3785a2-6add-4393-8c0b-c64cc675c70a",
   "metadata": {},
   "source": [
    "# Data Science Tools and Ecosystem"
   ]
  },
  {
   "cell_type": "markdown",
   "id": "23224058-5b5d-4244-8c34-25211c5352a7",
   "metadata": {},
   "source": [
    "This project consists in showing what I've learned in the past courses. It includes knowledge of Data Science Languages, Libraries, Tools and general knowledge of Python and other programming languages. It also requires some knowing of Jupyter Notebooks. "
   ]
  },
  {
   "cell_type": "markdown",
   "id": "79e3d8b3-17c4-4840-81de-2f9ab2b7de59",
   "metadata": {},
   "source": [
    "# Data Science Languages:\n",
    "1. Julia;\n",
    "2. Python;\n",
    "3. JavaScript;\n",
    "4. R;\n",
    "5. SQL;\n",
    "6. Scala;\n",
    "7. Java;\n",
    "8. C++."
   ]
  },
  {
   "cell_type": "markdown",
   "id": "adc7c3be-89c2-4023-a690-c21af6414239",
   "metadata": {},
   "source": [
    "# Data Science Libraries:\n",
    "1. Python:\n",
    "     1. Pandas;\n",
    "     2. Matplotlib;\n",
    "     3. Seaborn;\n",
    "     4. Numpy;\n",
    "     5. PyTorch;\n",
    "2. R:\n",
    "     1. ggplot2;\n",
    "     2. dplyr;\n",
    "     3. caret;\n",
    "3. Julia:\n",
    "     1. DataFrames.jl;\n",
    "     2. Flux.jl;\n",
    "     3. Plots.jl;\n",
    "4. Scala:\n",
    "     1. Spark MLlib;\n",
    "     2. Breeze."
   ]
  },
  {
   "cell_type": "markdown",
   "id": "4aeea514-783c-4c3a-a0e5-9d1f33e14295",
   "metadata": {},
   "source": [
    "# Data Science Tools\n",
    "\n",
    "| Tool Name          | Category             | Description                                             |\n",
    "|--------------------|----------------------|---------------------------------------------------------|\n",
    "| **Jupyter Notebook**| Development Environment | Interactive web-based environment for data analysis.   |\n",
    "| **Keras**          | Deep Learning        | High-level neural networks API, running on top of TensorFlow. |\n",
    "| **RStudio**        | Development Environment | IDE for R programming language.                        |\n",
    "| **Apache Hadoop**  | Big Data Processing  | Framework for processing large datasets in distributed computing environments. |\n",
    "| **Power BI**       | Data Visualization   | Business analytics tool to create reports and dashboards.|\n"
   ]
  },
  {
   "cell_type": "markdown",
   "id": "cf24ccd1-02c8-4337-b610-6e8bbd884341",
   "metadata": {},
   "source": [
    "## Arithmetic Expression Examples in Python\n",
    "\n",
    "1. **Addition** (`+`)\n",
    "   - Example: `3 + 5` \n",
    "   - Result: `8`\n",
    "\n",
    "2. **Subtraction** (`-`)\n",
    "   - Example: `10 - 4`\n",
    "   - Result: `6`\n",
    "\n",
    "3. **Multiplication** (`*`)\n",
    "   - Example: `7 * 3`\n",
    "   - Result: `21`\n",
    "\n",
    "4. **Division** (`/`)\n",
    "   - Example: `20 / 4`\n",
    "   - Result: `5.0` (division always returns a float)\n",
    "\n",
    "6. **Modulus** (`%`)\n",
    "   - Example: `20 % 6`\n",
    "   - Result: `2` (returns the remainder of the division)\n",
    "\n",
    "\n"
   ]
  },
  {
   "cell_type": "code",
   "execution_count": 25,
   "id": "536f9da4-132c-44d0-8466-52365ea84ae4",
   "metadata": {},
   "outputs": [
    {
     "data": {
      "text/plain": [
       "49"
      ]
     },
     "execution_count": 25,
     "metadata": {},
     "output_type": "execute_result"
    }
   ],
   "source": [
    "#this code cell is used to demonstrate multiplication and addition.\n",
    "a = 3+4\n",
    "7*a\n"
   ]
  },
  {
   "cell_type": "code",
   "execution_count": 37,
   "id": "b017309e-77ea-42b8-85f0-3479b04c9bc6",
   "metadata": {},
   "outputs": [
    {
     "name": "stdin",
     "output_type": "stream",
     "text": [
      "Enter the number of minutes:  180\n"
     ]
    },
    {
     "name": "stdout",
     "output_type": "stream",
     "text": [
      "3.0\n"
     ]
    }
   ],
   "source": [
    "#This code cell converts minutes to hours\n",
    "minutes = float(input(\"Enter the number of minutes: \"))\n",
    "hours = minutes / 60\n",
    "print(hours)"
   ]
  },
  {
   "cell_type": "markdown",
   "id": "ae720a1a-90f2-4ca8-ae5a-f689396a7fa1",
   "metadata": {},
   "source": [
    "## Objectives\n",
    "- Remembering Data Science related Libraries, Languages and Tools;\n",
    "- Python Artithmetic Expressions;\n",
    "- Hands-on Jupyter Learning. "
   ]
  },
  {
   "cell_type": "markdown",
   "id": "6ed72580-f5ea-4bb1-9f9b-53c956434177",
   "metadata": {},
   "source": [
    "### Author's name:\n",
    "Lucas Fernandes Gafaria Alves"
   ]
  },
  {
   "cell_type": "code",
   "execution_count": null,
   "id": "07091423-5846-412d-abfa-6fef2f3d5686",
   "metadata": {},
   "outputs": [],
   "source": []
  }
 ],
 "metadata": {
  "kernelspec": {
   "display_name": "Python [conda env:base] *",
   "language": "python",
   "name": "conda-base-py"
  },
  "language_info": {
   "codemirror_mode": {
    "name": "ipython",
    "version": 3
   },
   "file_extension": ".py",
   "mimetype": "text/x-python",
   "name": "python",
   "nbconvert_exporter": "python",
   "pygments_lexer": "ipython3",
   "version": "3.12.7"
  }
 },
 "nbformat": 4,
 "nbformat_minor": 5
}
